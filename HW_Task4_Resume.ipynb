{
 "cells": [
  {
   "cell_type": "code",
   "execution_count": null,
   "metadata": {},
   "outputs": [],
   "source": [
    "# -*- coding: UTF-8 -*-\n",
    "\"\"\"Resume Analysis Module.\"\"\"\n",
    "\n",
    "import os\n",
    "import string\n",
    "\n",
    "# Counter is used later in the program\n",
    "from collections import Counter"
   ]
  },
  {
   "cell_type": "code",
   "execution_count": 2,
   "metadata": {},
   "outputs": [],
   "source": [
    "# Paths\n",
    "resume_path = os.path.join(\"Resources\", \"resume.md\")\n",
    "\n",
    "# Skills to match\n",
    "REQUIRED_SKILLS = {\"excel\", \"python\", \"mysql\", \"statistics\"}\n",
    "DESIRED_SKILLS = {\"r\", \"git\", \"html\", \"css\", \"leaflet\", \"modeling\"}"
   ]
  },
  {
   "cell_type": "code",
   "execution_count": 3,
   "metadata": {},
   "outputs": [],
   "source": [
    "# function to load a file\n",
    "def load_file(filepath):\n",
    "# Helper function to read a file and return the data\n",
    "    with open(filepath, \"r\") as resume_file_handler:\n",
    "        resume_contents = resume_file_handler.read()\n",
    "        resume_contents = resume_contents.lower()\n",
    "        resume_tokens = resume_contents.split()\n",
    "        return resume_tokens \n",
    "    "
   ]
  },
  {
   "cell_type": "code",
   "execution_count": 4,
   "metadata": {},
   "outputs": [],
   "source": [
    "# Grab the text for a Resume\n",
    "word_list = load_file(resume_path)"
   ]
  },
  {
   "cell_type": "code",
   "execution_count": 5,
   "metadata": {},
   "outputs": [
    {
     "name": "stdout",
     "output_type": "stream",
     "text": [
      "\n",
      "WORDS AFTER REMOVING PUNCUTATION\n",
      "{'analyze', 'pandas', 'creating', 'camp', 'contributing', 'excel', 'sets', 'd', 'leaflet', 'dartanion', 'cloud', 'the', 'big', 'r', 'writing', 'visualization', 'databases', 'mysql', 'microsoft', 'forecasting', 'machine', '*', 'basic', 'learning', 'html', 'business', 'boot', 'using', 'to', 'python', 'apis', 'with', 'tableau', 'education', 'working', 'mining', '##', 'open-source', 'aws', 'from', 'mongodb', 'social', 'api', 'designing', 'html/css', 'in', 'vba', 'd3', 'interactions', 'pivot', 'interests', 'files', 'front-end', 'experience', 'css', 'advanced', '#', 'and', 'web', 'tables', 'bootstrap', 'javascript', 'analytics', 'visualizations', 'sql', 'intelligence', 'software', 'skills', 'hadoop', 'git/github', 'media', 'algorithms', 'statistics', 'modeling', 'scripts', 'apps', 'graduate', 'dartling', 'developing', 'data', 'performing'}\n",
      "{'analyze', 'pandas', 'creating', 'camp', 'contributing', 'excel', 'sets', 'd', 'leaflet', 'dartanion', 'cloud', 'the', 'big', 'r', 'writing', 'databases', 'visualization', 'mysql', 'microsoft', 'forecasting', 'machine', 'basic', 'learning', 'html', 'business', 'boot', 'using', 'to', 'python', 'apis', 'with', 'tableau', 'education', 'working', 'mining', '##', 'open-source', 'aws', 'from', 'mongodb', 'social', 'api', 'designing', 'html/css', 'in', 'vba', 'd3', 'interactions', 'pivot', 'interests', 'files', 'front-end', 'experience', 'css', 'advanced', 'and', 'web', 'tables', 'bootstrap', 'javascript', 'analytics', 'visualizations', 'sql', 'intelligence', 'software', 'skills', 'hadoop', 'git/github', 'media', 'algorithms', 'statistics', 'modeling', 'scripts', 'apps', 'graduate', 'dartling', 'developing', 'data', 'performing'}\n"
     ]
    }
   ],
   "source": [
    "# Create a set of unique words from the resume\n",
    "resume = set()\n",
    "\n",
    "# Remove trailing punctuation from words\n",
    "for token in word_list:\n",
    "    resume.add(token.split(',')[0].split('.')[0])\n",
    "\n",
    "print('\\nWORDS AFTER REMOVING PUNCUTATION')\n",
    "print(resume)\n",
    "\n",
    "# Remove Punctuation that were read as whole words\n",
    "punctuation = set(string.punctuation)\n",
    "resume = resume - punctuation\n",
    "print(resume)"
   ]
  },
  {
   "cell_type": "code",
   "execution_count": 6,
   "metadata": {},
   "outputs": [
    {
     "name": "stdout",
     "output_type": "stream",
     "text": [
      "REQUIRED SKILLS\n",
      "=============\n",
      "{'python', 'excel', 'mysql', 'statistics'}\n",
      "DESIRED SKILLS\n",
      "=============\n",
      "{'r', 'html', 'modeling', 'leaflet', 'css'}\n"
     ]
    }
   ],
   "source": [
    "# Calculate the Required Skills Match using Set Intersection\n",
    "print(\"REQUIRED SKILLS\")\n",
    "print(\"=============\")\n",
    "print(resume & REQUIRED_SKILLS)\n",
    "\n",
    "\n",
    "# Calculate the Desired Skills Match using Set Intersection\n",
    "print(\"DESIRED SKILLS\")\n",
    "print(\"=============\")\n",
    "print(resume & DESIRED_SKILLS)"
   ]
  },
  {
   "cell_type": "code",
   "execution_count": 17,
   "metadata": {},
   "outputs": [
    {
     "name": "stdout",
     "output_type": "stream",
     "text": [
      "\n",
      "WORD LIST AFTER PUNCTUTATION REMOVAL\n",
      "['#', 'dartanion', 'd.', 'dartling', '##', 'education', '*', 'data', 'analytics', 'and', 'visualization', 'boot', 'camp', 'graduate', '##', 'experience', '*', 'creating', 'pivot', 'tables', 'and', 'vba', 'scripts', 'in', 'excel.', '*', 'modeling', 'and', 'forecasting', 'data', 'using', 'basic', 'statistics', '*', 'writing', 'python', 'scripts', 'to', 'analyze', 'data', 'sets', 'from', 'files', 'and', 'apis.', '*', 'social', 'media', 'mining', 'using', 'python', '*', 'working', 'with', 'mysql', 'and', 'mongodb', 'databases', '*', 'developing', 'front-end', 'web', 'visualizations', 'using', 'html,', 'css,', 'bootstrap,', 'd3,', 'and', 'leaflet.js', '*', 'using', 'the', 'tableau', 'business', 'intelligence', 'software', '*', 'performing', 'big', 'data', 'analytics', 'with', 'hadoop', '*', 'working', 'with', 'machine', 'learning', 'algorithms', '##', 'skills', '*', 'microsoft', 'excel,', 'python,', 'javascript,', 'html/css,', 'api', 'interactions,', 'social', 'media', 'mining,', 'sql,', 'hadoop,', 'tableau,', 'advanced', 'statistics,', 'machine', 'learning,', 'r,', 'git/github', '##', 'interests', '*', 'contributing', 'to', 'open-source', 'software', '*', 'data', 'analytics', 'with', 'python', 'and', 'pandas', '*', 'designing', 'data', 'visualization', 'web', 'apps', 'with', 'html,', 'css,', 'javascript,', 'and', 'd3', '*', 'working', 'with', 'big', 'data', 'in', 'the', 'cloud', 'using', 'aws']\n",
      "\n",
      "WORD LIST AFTER STOP WORDS\n",
      "['#', 'dartanion', 'd.', 'dartling', '##', 'education', '*', 'data', 'analytics', 'and', 'visualization', 'boot', 'camp', 'graduate', '##', 'experience', '*', 'creating', 'pivot', 'tables', 'and', 'vba', 'scripts', 'in', 'excel.', '*', 'modeling', 'and', 'forecasting', 'data', 'using', 'basic', 'statistics', '*', 'writing', 'python', 'scripts', 'to', 'analyze', 'data', 'sets', 'from', 'files', 'and', 'apis.', '*', 'social', 'media', 'mining', 'using', 'python', '*', 'working', 'with', 'mysql', 'and', 'mongodb', 'databases', '*', 'developing', 'front-end', 'web', 'visualizations', 'using', 'html,', 'css,', 'bootstrap,', 'd3,', 'and', 'leaflet.js', '*', 'using', 'the', 'tableau', 'business', 'intelligence', 'software', '*', 'performing', 'big', 'data', 'analytics', 'with', 'hadoop', '*', 'working', 'with', 'machine', 'learning', 'algorithms', '##', 'skills', '*', 'microsoft', 'excel,', 'python,', 'javascript,', 'html/css,', 'api', 'interactions,', 'social', 'media', 'mining,', 'sql,', 'hadoop,', 'tableau,', 'advanced', 'statistics,', 'machine', 'learning,', 'r,', 'git/github', '##', 'interests', '*', 'contributing', 'to', 'open-source', 'software', '*', 'data', 'analytics', 'with', 'python', 'and', 'pandas', '*', 'designing', 'data', 'visualization', 'web', 'apps', 'with', 'html,', 'css,', 'javascript,', 'and', 'd3', '*', 'working', 'with', 'big', 'data', 'in', 'the', 'cloud', 'using', 'aws']\n"
     ]
    }
   ],
   "source": [
    "# Don't worry about the underscore in front of _word_count\n",
    "# It is just convention for internal use only\n",
    "# More info here: https://dbader.org/blog/meaning-of-underscores-in-python\n",
    "\n",
    "# Word Punctutation Cleaning\n",
    "# Hint: return only words that are not in string.punctuaton\n",
    "# Hint: consider using a list comprehension \n",
    "\n",
    "_word_count = [word for word in word_list if word not in string.punctuation]\n",
    "print('\\nWORD LIST AFTER PUNCTUTATION REMOVAL')\n",
    "print(word_list)\n",
    "\n",
    "# Clean Stop Words\n",
    "stop_words = [\"and\", \"with\", \"using\", \"##\", \"working\", \"in\", \"to\"]\n",
    "_word_count =[word for word in word_list if word not in stop_words]\n",
    "print('\\nWORD LIST AFTER STOP WORDS')\n",
    "print(word_list)"
   ]
  },
  {
   "cell_type": "code",
   "execution_count": 18,
   "metadata": {},
   "outputs": [
    {
     "name": "stdout",
     "output_type": "stream",
     "text": [
      "{'#': 1, 'dartanion': 1, 'd.': 1, 'dartling': 1, '##': 4, 'education': 1, '*': 15, 'data': 7, 'analytics': 3, 'and': 8, 'visualization': 2, 'boot': 1, 'camp': 1, 'graduate': 1, 'experience': 1, 'creating': 1, 'pivot': 1, 'tables': 1, 'vba': 1, 'scripts': 2, 'in': 2, 'excel.': 1, 'modeling': 1, 'forecasting': 1, 'using': 5, 'basic': 1, 'statistics': 1, 'writing': 1, 'python': 3, 'to': 2, 'analyze': 1, 'sets': 1, 'from': 1, 'files': 1, 'apis.': 1, 'social': 2, 'media': 2, 'mining': 1, 'working': 3, 'with': 6, 'mysql': 1, 'mongodb': 1, 'databases': 1, 'developing': 1, 'front-end': 1, 'web': 2, 'visualizations': 1, 'html,': 2, 'css,': 2, 'bootstrap,': 1, 'd3,': 1, 'leaflet.js': 1, 'the': 2, 'tableau': 1, 'business': 1, 'intelligence': 1, 'software': 2, 'performing': 1, 'big': 2, 'hadoop': 1, 'machine': 2, 'learning': 1, 'algorithms': 1, 'skills': 1, 'microsoft': 1, 'excel,': 1, 'python,': 1, 'javascript,': 2, 'html/css,': 1, 'api': 1, 'interactions,': 1, 'mining,': 1, 'sql,': 1, 'hadoop,': 1, 'tableau,': 1, 'advanced': 1, 'statistics,': 1, 'learning,': 1, 'r,': 1, 'git/github': 1, 'interests': 1, 'contributing': 1, 'open-source': 1, 'pandas': 1, 'designing': 1, 'apps': 1, 'd3': 1, 'cloud': 1, 'aws': 1}\n",
      "Counter({'*': 15, 'and': 8, 'data': 7, 'with': 6, 'using': 5, '##': 4, 'analytics': 3, 'python': 3, 'working': 3, 'visualization': 2, 'scripts': 2, 'in': 2, 'to': 2, 'social': 2, 'media': 2, 'web': 2, 'html,': 2, 'css,': 2, 'the': 2, 'software': 2, 'big': 2, 'machine': 2, 'javascript,': 2, '#': 1, 'dartanion': 1, 'd.': 1, 'dartling': 1, 'education': 1, 'boot': 1, 'camp': 1, 'graduate': 1, 'experience': 1, 'creating': 1, 'pivot': 1, 'tables': 1, 'vba': 1, 'excel.': 1, 'modeling': 1, 'forecasting': 1, 'basic': 1, 'statistics': 1, 'writing': 1, 'analyze': 1, 'sets': 1, 'from': 1, 'files': 1, 'apis.': 1, 'mining': 1, 'mysql': 1, 'mongodb': 1, 'databases': 1, 'developing': 1, 'front-end': 1, 'visualizations': 1, 'bootstrap,': 1, 'd3,': 1, 'leaflet.js': 1, 'tableau': 1, 'business': 1, 'intelligence': 1, 'performing': 1, 'hadoop': 1, 'learning': 1, 'algorithms': 1, 'skills': 1, 'microsoft': 1, 'excel,': 1, 'python,': 1, 'html/css,': 1, 'api': 1, 'interactions,': 1, 'mining,': 1, 'sql,': 1, 'hadoop,': 1, 'tableau,': 1, 'advanced': 1, 'statistics,': 1, 'learning,': 1, 'r,': 1, 'git/github': 1, 'interests': 1, 'contributing': 1, 'open-source': 1, 'pandas': 1, 'designing': 1, 'apps': 1, 'd3': 1, 'cloud': 1, 'aws': 1})\n",
      "True\n",
      "Top 10 Words\n",
      "=============\n"
     ]
    }
   ],
   "source": [
    "# Resume Word Count\n",
    "# ==========================\n",
    "\n",
    "# Initialize a dictionary with default values equal to zero\n",
    "word_count = {}.fromkeys(word_list, 0)\n",
    "\n",
    "# Loop through the word list and count each word.\n",
    "for word in word_list:\n",
    "    word_count[word] += 1\n",
    "print(word_count)\n",
    "\n",
    "# Using collections.Counter\n",
    "word_counter = Counter(word_list)\n",
    "print(word_counter)\n",
    "\n",
    "# Comparing both word count solutions\n",
    "print(word_count == word_counter)\n",
    "\n",
    "# Top 10 Words\n",
    "print(\"Top 10 Words\")\n",
    "print(\"=============\")"
   ]
  },
  {
   "cell_type": "code",
   "execution_count": 10,
   "metadata": {},
   "outputs": [
    {
     "name": "stdout",
     "output_type": "stream",
     "text": [
      "Token: *                    Count: 15\n",
      "Token: and                  Count: 8\n",
      "Token: data                 Count: 7\n",
      "Token: with                 Count: 6\n",
      "Token: using                Count: 5\n",
      "Token: ##                   Count: 4\n",
      "Token: analytics            Count: 3\n",
      "Token: python               Count: 3\n",
      "Token: working              Count: 3\n",
      "Token: visualization        Count: 2\n"
     ]
    }
   ],
   "source": [
    "# Sort words by count and print the top 10\n",
    "sorted_words = []\n",
    "for word in sorted(word_count, key=word_count.get, reverse=True)[:10]:\n",
    "    print(f'Token: {word:20} Count: {word_count[word]}')"
   ]
  }
 ],
 "metadata": {
  "kernelspec": {
   "display_name": "Python 3",
   "language": "python",
   "name": "python3"
  },
  "language_info": {
   "codemirror_mode": {
    "name": "ipython",
    "version": 3
   },
   "file_extension": ".py",
   "mimetype": "text/x-python",
   "name": "python",
   "nbconvert_exporter": "python",
   "pygments_lexer": "ipython3",
   "version": "3.7.3"
  }
 },
 "nbformat": 4,
 "nbformat_minor": 2
}
