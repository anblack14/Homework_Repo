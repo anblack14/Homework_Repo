{
 "cells": [
  {
   "cell_type": "markdown",
   "metadata": {},
   "source": [
    "Good Reads Summary\n",
    "\n",
    "The objective of this assignment is for you to explain what is happening in each cell in clear, understandable language.\n",
    "There is no need to code. The code is there for you, and it already runs. Your task is only to explain what each line in each cell does.\n",
    "The placeholder cells should describe what happens in the cell below it.\n",
    " Example: The cell below imports pandas as a dependency because pandas functions will be used throughout the program, such as the Pandas DataFrame as well as the read_csv function."
   ]
  },
  {
   "cell_type": "code",
   "execution_count": null,
   "metadata": {},
   "outputs": [],
   "source": [
    " import pandas as pd"
   ]
  },
  {
   "cell_type": "markdown",
   "metadata": {},
   "source": [
    "The cell below is creating the path to pull data from the CSV that we are referencing throughout the code. It is important to set this so that you are manipulating the correct data set. \n",
    "\n",
    "pd.read_csv is a function that reads the referenced CSV through the pandas dependency so that you can use pandas functions to manipulate the data.\n",
    "\n",
    "Character encoding, like \"utf-8\", is important because it translates the text into a language that the computer can comprehend; encoding interprets bytes"
   ]
  },
  {
   "cell_type": "code",
   "execution_count": null,
   "metadata": {},
   "outputs": [],
   "source": [
    "goodreads_path = \"Resources/books_clean.csv\"\n",
    "\n",
    "goodreads_df = pd.read_csv(goodreads_path, encoding=\"utf-8\")\n",
    "goodreads_df.head() "
   ]
  },
  {
   "cell_type": "markdown",
   "metadata": {},
   "source": [
    "len(good_reads....unique())run the full length of the referenced column in the referenced df, for all unique values \n",
    "\n",
    "earliest year and latest year .min() and .max() are finding the min and max values for the referenced column, Publication Year \n",
    "\n",
    "iloc is a function that locates a value or set of values within a df as referenced by an index number. In this case we are looking to extract all rows in index 4 ([:;4]), and summing those values, with axis= 1 referring to the columns in the df as what you are summing "
   ]
  },
  {
   "cell_type": "code",
   "execution_count": null,
   "metadata": {},
   "outputs": [],
   "source": [
    "author_count = len(goodreads_df[\"Authors\"].unique())\n",
    "\n",
    "earliest_year = goodreads_df[\"Publication Year\"].min()\n",
    "latest_year = goodreads_df[\"Publication Year\"].max()\n",
    "\n",
    "goodreads_df['Total Reviews'] = goodreads_df.iloc[:, 4:].sum(axis=1)\n",
    "total_reviews = sum(goodreads_df['Total Reviews']) "
   ]
  },
  {
   "cell_type": "markdown",
   "metadata": {},
   "source": [
    "summary_table is creating a data frame by passing a dictionary of lists as the data content. The [author_count] value is passed in brackets because it is referencing a variable created in the cell above, which encompasses a list of values. "
   ]
  },
  {
   "cell_type": "code",
   "execution_count": null,
   "metadata": {},
   "outputs": [],
   "source": [
    "summary_table = pd.DataFrame({\"Total Unique Authors\": [author_count],\n",
    "                              \"Earliest Year\": earliest_year,\n",
    "                              \"Latest Year\": latest_year,\n",
    "                              \"Total Reviews\": total_reviews})\n",
    "summary_table"
   ]
  }
 ],
 "metadata": {
  "kernelspec": {
   "display_name": "Python 3",
   "language": "python",
   "name": "python3"
  },
  "language_info": {
   "codemirror_mode": {
    "name": "ipython",
    "version": 3
   },
   "file_extension": ".py",
   "mimetype": "text/x-python",
   "name": "python",
   "nbconvert_exporter": "python",
   "pygments_lexer": "ipython3",
   "version": "3.7.3"
  }
 },
 "nbformat": 4,
 "nbformat_minor": 2
}
