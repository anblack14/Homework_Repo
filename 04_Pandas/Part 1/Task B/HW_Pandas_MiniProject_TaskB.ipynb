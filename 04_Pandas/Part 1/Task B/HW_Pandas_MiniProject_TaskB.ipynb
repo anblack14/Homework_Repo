{
 "cells": [
  {
   "cell_type": "code",
   "execution_count": null,
   "metadata": {},
   "outputs": [],
   "source": [
    "# Dependencies\n",
    "import pandas as pd"
   ]
  },
  {
   "cell_type": "code",
   "execution_count": null,
   "metadata": {},
   "outputs": [],
   "source": [
    "# load CSV\n",
    "\n",
    "coders_csv= (\"Resources/2016-FCC-New-Coders-Survey-Data.csv\")"
   ]
  },
  {
   "cell_type": "code",
   "execution_count": null,
   "metadata": {},
   "outputs": [],
   "source": [
    "# Read with pandas--low_memory required to suppress errors about mixed data types \n",
    "\n",
    "coders_df = pd.read_csv(coders_csv, encoding='iso-8859-1', low_memory=False)"
   ]
  },
  {
   "cell_type": "code",
   "execution_count": null,
   "metadata": {},
   "outputs": [],
   "source": [
    "# Take only columns 0, 1, 2, 3, 4, 6, 7, 8, 9, 10, 11, 29, 30, 32, 36, 37, 45, 48, 56, 110, 111\n",
    "\n",
    "coders_data= coders_df.iloc[:, [0, 1, 2, 3, 4, 7, 8, 9, 10, 11, 29, 30, 32, 36, 37, 45, 48, 56, 110, 111]]\n",
    "\n",
    "coders_data.head()\n"
   ]
  },
  {
   "cell_type": "code",
   "execution_count": null,
   "metadata": {},
   "outputs": [],
   "source": [
    "# Change reading 0 and 1 to No and Yes, respectively \n",
    "\n",
    "coders_data = coders_data.replace({0.0:\"No\", 1.0:\"Yes\"})\n",
    "coders_data= pd.head()"
   ]
  },
  {
   "cell_type": "code",
   "execution_count": null,
   "metadata": {},
   "outputs": [],
   "source": [
    "# Extract rows for only those who attended a bootcamp \n",
    "\n",
    "final_coder_data = coders_data.loc[coders_data[\"AttendedBootcamp\"] == \"Yes\", :]\n",
    "final_coder_data.count()"
   ]
  },
  {
   "cell_type": "code",
   "execution_count": null,
   "metadata": {},
   "outputs": [],
   "source": [
    " # Create DataFrame of the different boot camps that had a significant number of attendees\n",
    "\n",
    "final_coding_data[\"BootcampName\"].unique()\n",
    "\n",
    "# How do we distinguish the different Bootcamp names in the list? \n",
    "camp_attendees = final_coder_data[\"BootcampName\"].value_counts()\n",
    "\n",
    "\n",
    "final_coder_data = pd.DataFrame({ \"Bootcamp Name\": {BootcampName[6]},\n",
    "                             \"Amount Recommend\": {BootcampReccomend[8]}})\n",
    "\n"
   ]
  },
  {
   "cell_type": "code",
   "execution_count": null,
   "metadata": {},
   "outputs": [],
   "source": [
    "# Count how many attendees of each bootcamp would recommend the bootcamp \n"
   ]
  },
  {
   "cell_type": "code",
   "execution_count": null,
   "metadata": {},
   "outputs": [],
   "source": [
    "# Merge the two created data frames on the name of tbe bootcamp "
   ]
  },
  {
   "cell_type": "code",
   "execution_count": null,
   "metadata": {},
   "outputs": [],
   "source": [
    " # Calculate percentage of eac bootcamp's students who are recommenders  "
   ]
  },
  {
   "cell_type": "code",
   "execution_count": null,
   "metadata": {},
   "outputs": [],
   "source": [
    "# Export to excel and remove index"
   ]
  }
 ],
 "metadata": {
  "kernelspec": {
   "display_name": "Python 3",
   "language": "python",
   "name": "python3"
  },
  "language_info": {
   "codemirror_mode": {
    "name": "ipython",
    "version": 3
   },
   "file_extension": ".py",
   "mimetype": "text/x-python",
   "name": "python",
   "nbconvert_exporter": "python",
   "pygments_lexer": "ipython3",
   "version": "3.7.3"
  }
 },
 "nbformat": 4,
 "nbformat_minor": 2
}
