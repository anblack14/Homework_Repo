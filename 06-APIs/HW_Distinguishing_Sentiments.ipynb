{
 "cells": [
  {
   "cell_type": "code",
   "execution_count": null,
   "metadata": {
    "scrolled": true
   },
   "outputs": [],
   "source": [
    "import tweepy\n",
    "import numpy as np\n",
    "import pandas as pd \n",
    "from datetime import datetime \n",
    "import matplotlib.pyplot as plt \n",
    "from matplotlib import style \n",
    "style.use('ggplot')\n",
    "from config import (consumer_key,\n",
    "                    consumer_secret,\n",
    "                    access_token,\n",
    "                    access_token_secret)\n",
    "\n",
    "# Import and Initialize Sentiment Analyzer\n",
    "from vaderSentiment.vaderSentiment import SentimentIntensityAnalyzer\n",
    "analyzer = SentimentIntensityAnalyzer()\n",
    "\n",
    "# Twitter API Keys\n",
    "consumer_key = consumer_key\n",
    "consumer_secret = consumer_secret\n",
    "access_token = access_token\n",
    "access_token_secret = access_token_secret\n",
    "\n",
    "# Setup Tweepy API Authentication\n",
    "auth = tweepy.OAuthHandler(consumer_key, consumer_secret)\n",
    "auth.set_access_token(access_token, access_token_secret)\n",
    "api = tweepy.API(auth, parser=tweepy.parsers.JSONParser())"
   ]
  },
  {
   "cell_type": "code",
   "execution_count": null,
   "metadata": {},
   "outputs": [],
   "source": [
    "# Target User Account\n",
    "target_user = \"@BBC\"\n",
    "\n",
    "# \"@CBS\"\n",
    "# \"@CNN\"\n",
    "# \"@FOXTV\"\n",
    "# \"@nytimes\"\n",
    "\n",
    "# Counter\n",
    "counter = 1 \n",
    "\n",
    "# Variables for holding sentiments\n",
    "sentiments = []\n",
    "# compound_list = []\n",
    "# positive_list = []\n",
    "# negative_list = []\n",
    "# neutral_list = []\n",
    "\n",
    "# Loop through 5 pages of tweets (total 100 tweets)\n",
    "for x in range(5):\n",
    "\n",
    "    # Get all tweets from home feed\n",
    "    public_tweets = api.user_timeline(target_user, max_id = oldest_tweet)\n",
    "\n",
    "    # Loop through all tweets\n",
    "    for tweet in public_tweets:\n",
    "\n",
    "        # Run Vader Analysis on each tweet\n",
    "        results = analyzer.polarity_scores(tweet[\"text\"])\n",
    "        compound = results[\"compound\"]\n",
    "        pos = results[\"pos\"]\n",
    "        neu = results[\"neu\"]\n",
    "        neg = results[\"neg\"]\n",
    "\n",
    "#         Add each value to the appropriate list\n",
    "#         compound_list.append(compound)\n",
    "#         positive_list.append(pos)\n",
    "#         negative_list.append(neg)\n",
    "#         neutral_list.append(neu)\n",
    "\n",
    "        # Get Tweet ID, subtract 1, and assign to oldest_tweet\n",
    "        oldest_tweet = tweet['id'] - 1\n",
    "        \n",
    "        # Add sentiments in to a list\n",
    "        sentiments.append =({\"Date\": tweet[\"created_at\"],\n",
    "                             \"Compound\": compound, \n",
    "                             \"Positive\": pos,  \n",
    "                             \"Negative\": neg, \n",
    "                             \"Neutral\": neu,\n",
    "                             \"Tweets Ago\": counter})\n",
    "        \n",
    "        # Add to counter \n",
    "        counter += 1\n",
    "        print(tweet['text'])\n",
    "        \n",
    "        "
   ]
  },
  {
   "cell_type": "code",
   "execution_count": null,
   "metadata": {},
   "outputs": [],
   "source": [
    "# Print the Averages\n",
    "# print(f\"User: {target_user}\")\n",
    "# print(f\"Compound: {np.mean(compound_list):.3f}\")\n",
    "# print(f\"Positive: {np.mean(positive_list):.3f}\")\n",
    "# print(f\"Neutral: {np.mean(neutral_list):.3f}\")\n",
    "# print(f\"Negative: {np.mean(negative_list):.3f}\")"
   ]
  },
  {
   "cell_type": "code",
   "execution_count": null,
   "metadata": {},
   "outputs": [],
   "source": [
    "# Convert sentiments to DataFrame\n",
    "sentiments_pd = pd.DataFrame.from_dict(sentiments)\n",
    "sentiments_pd.head()"
   ]
  },
  {
   "cell_type": "code",
   "execution_count": null,
   "metadata": {},
   "outputs": [],
   "source": [
    "# Save DataFrame output to CSV\n",
    "sentiment_pd.to_csv(\"output/sentiment_analysis.csv\", index=True)"
   ]
  },
  {
   "cell_type": "code",
   "execution_count": null,
   "metadata": {},
   "outputs": [],
   "source": [
    " # Create plot\n",
    "x_vals = sentiments_pd[\"Tweets Ago\"]\n",
    "y_vals = sentiments_pd[\"Compound\"]\n",
    "plt.plot(x_vals,\n",
    "         y_vals, \n",
    "         marker=\"o\",\n",
    "         alpha=0.8)\n",
    "\n",
    "# # Incorporate the other graph properties\n",
    "now = datetime.now()\n",
    "now = now.strftime(\"%Y-%m-%d %H:%M\")\n",
    "plt.title(f\"Sentiment Analysis of Tweets ({now}) for {target_user}\")\n",
    "plt.xlim([x_vals.max(),x_vals.min()]) \n",
    "plt.ylabel(\"Tweet Polarity\")\n",
    "plt.xlabel(\"Tweets Ago\")\n",
    "plt.show()\n",
    "\n"
   ]
  }
 ],
 "metadata": {
  "kernelspec": {
   "display_name": "Python 3",
   "language": "python",
   "name": "python3"
  },
  "language_info": {
   "codemirror_mode": {
    "name": "ipython",
    "version": 3
   },
   "file_extension": ".py",
   "mimetype": "text/x-python",
   "name": "python",
   "nbconvert_exporter": "python",
   "pygments_lexer": "ipython3",
   "version": "3.7.3"
  }
 },
 "nbformat": 4,
 "nbformat_minor": 2
}
