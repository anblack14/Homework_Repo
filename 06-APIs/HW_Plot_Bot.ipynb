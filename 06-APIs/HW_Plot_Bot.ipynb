{
 "cells": [
  {
   "cell_type": "code",
   "execution_count": null,
   "metadata": {},
   "outputs": [],
   "source": [
    "import tweepy\n",
    "import json\n",
    "import time\n",
    "from config import (consumer_key, \n",
    "                    consumer_secret, \n",
    "                    access_token, \n",
    "                    access_token_secret)"
   ]
  },
  {
   "cell_type": "code",
   "execution_count": null,
   "metadata": {},
   "outputs": [],
   "source": [
    "# Setup Tweepy API Authentication\n",
    "auth = tweepy.OAuthHandler(consumer_key, consumer_secret)\n",
    "auth.set_access_token(access_token, access_token_secret)\n",
    "api = tweepy.API(auth, parser=tweepy.parsers.JSONParser())"
   ]
  },
  {
   "cell_type": "code",
   "execution_count": null,
   "metadata": {},
   "outputs": [],
   "source": [
    " # Create a function that gets the weather in London and Tweets it\n",
    "def SentimentTweet():\n",
    "    \n",
    "    # Target Account\n",
    "    target_user = \"@WanderW16807608\"\n",
    "    #@al_black14\n",
    "    #@TheKeeper2016\n",
    "\n",
    "    # Counter\n",
    "    counter = 1\n",
    "\n",
    "    # Variables for holding sentiments\n",
    "    sentiments = []\n",
    "\n",
    "    # Variable for max_id\n",
    "    oldest_tweet = None\n",
    "        \n",
    "    # Loop through 5 pages of tweets (total 100 tweets)\n",
    "    for x in range(25):\n",
    "\n",
    "        # Get all tweets from home feed\n",
    "        public_tweets = api.user_timeline(target_user, max_id = oldest_tweet)\n",
    "\n",
    "        # Loop through all tweets \n",
    "        for tweet in public_tweets:\n",
    "        \n",
    "            # Run Vader Analysis on each tweet\n",
    "            results = analyzer.polarity_scores(tweet[\"text\"])\n",
    "            compound = results[\"compound\"]\n",
    "            pos = results[\"pos\"]\n",
    "            neu = results[\"neu\"]\n",
    "            neg = results[\"neg\"]\n",
    "        \n",
    "            # Get Tweet ID, subtract 1, and assign to oldest_tweet\n",
    "            oldest_tweet = tweet['id'] - 1\n",
    "        \n",
    "            # Add sentiments for each tweet into a list\n",
    "            sentiments.append({\"Date\": tweet[\"created_at\"],\n",
    "                           \"Text\": tweet[\"text\"],\n",
    "                           \"Compound\": compound,\n",
    "                           \"Positive\": pos,\n",
    "                           \"Negative\": neu,\n",
    "                           \"Neutral\": neg,\n",
    "                           \"Tweets Ago\": counter})\n",
    "        \n",
    "            # Add to counter \n",
    "            counter += 1\n",
    "            print(tweet['text'])\n",
    "            \n",
    "            \n",
    "            # Tweet the weather\n",
    "            api.update_status(\n",
    "                x_vals = sentiments_pd[\"Tweets Ago\"]\n",
    "                y_vals = sentiments_pd[\"Compound\"]\n",
    "                plt.plot(x_vals,\n",
    "                         y_vals, marker=\"o\", linewidth=0.5,\n",
    "                         alpha=0.8)\n",
    "                now = datetime.now()\n",
    "                now = now.strftime(\"%Y-%m-%d %H:%M\")\n",
    "                plt.title(f\"Sentiment Analysis of Tweets ({now}) for {target_user}\")\n",
    "                plt.xlim([x_vals.max(),x_vals.min()]) \n",
    "                plt.ylabel(\"Tweet Polarity\")\n",
    "                plt.xlabel(\"Tweets Ago\")\n",
    "                plt.show()\n",
    "            )"
   ]
  },
  {
   "cell_type": "code",
   "execution_count": null,
   "metadata": {},
   "outputs": [],
   "source": [
    "# Set timer to run every 1 hour\n",
    "while(True):\n",
    "    SentimentTweet()\n",
    "    time.sleep(300)"
   ]
  }
 ],
 "metadata": {
  "kernelspec": {
   "display_name": "Python 3",
   "language": "python",
   "name": "python3"
  },
  "language_info": {
   "codemirror_mode": {
    "name": "ipython",
    "version": 3
   },
   "file_extension": ".py",
   "mimetype": "text/x-python",
   "name": "python",
   "nbconvert_exporter": "python",
   "pygments_lexer": "ipython3",
   "version": "3.7.3"
  }
 },
 "nbformat": 4,
 "nbformat_minor": 2
}
