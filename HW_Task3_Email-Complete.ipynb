{
 "cells": [
  {
   "cell_type": "code",
   "execution_count": 1,
   "metadata": {},
   "outputs": [],
   "source": [
    "#-*- coding: UTF-8 -*-\n",
    "#\"\"\"Employee Email Script.\n",
    "\n",
    "#This module allows us to create an email address using employee data from a csv file\n",
    "\n",
    "\n",
    "#Example:\n",
    "#    $ python employee_email.py\n",
    "\n",
    "import os\n",
    "import csv\n",
    "\n",
    "filepath = os.path.join(\"Resources\", \"employees.csv\")"
   ]
  },
  {
   "cell_type": "code",
   "execution_count": 2,
   "metadata": {},
   "outputs": [],
   "source": [
    "new_employee_data = []\n",
    "\n",
    "# Read data into dictionary and create a new email field\n",
    "with open(filepath) as csvfile:\n",
    "    reader = csv.DictReader(csvfile)\n",
    "    for row in reader:\n",
    "        first_name = row[\"first_name\"]\n",
    "        last_name = row[\"last_name\"]\n",
    "        email = f'{first_name}.{last_name}@example.com'\n",
    "        \n",
    "                # Hint: Use an f-string to combine append {first_name}, {last_name}, and @ '@example.com'\n",
    "                                    # YOUR CODE HERE\n",
    "                                    # Hint: Also add last_name, ssn, and e-mail to the new_employee_data list\n",
    "        new_employee_data.append({\"first_name\": row[\"first_name\"],\n",
    "                                  \"last_name\": row[\"last_name\"], \n",
    "                                  \"ssn\": row[\"ssn\"],\n",
    "                                  \"email\": email})\n",
    "        \n",
    "                                    "
   ]
  },
  {
   "cell_type": "code",
   "execution_count": 3,
   "metadata": {},
   "outputs": [],
   "source": [
    "# Grab the filename from the original path\n",
    "# Class Q: What is the difference in using the split function vs. csv.DictReader and looping through the rows?\n",
    "_, filename = os.path.split(filepath)"
   ]
  },
  {
   "cell_type": "code",
   "execution_count": 4,
   "metadata": {},
   "outputs": [],
   "source": [
    "# Write updated data to csv file\n",
    "csvpath= os.path.join(filename)\n",
    "with open(csvpath, \"w\") as csvfile:\n",
    "    fieldnames = ['first_name', 'last_name', 'ssn', 'email'] \n",
    "    writer = csv.DictWriter(csvfile, fieldnames=fieldnames)\n",
    "                            \n",
    "    writer.writeheader()\n",
    "    writer.writerows(new_employee_data)\n",
    "    #YOUR CODE HERE - write out the header row\n",
    "    #YOUR CODE HERE - write out the data rows -- hint: use writerows()\n",
    "    "
   ]
  }
 ],
 "metadata": {
  "kernelspec": {
   "display_name": "Python 3",
   "language": "python",
   "name": "python3"
  },
  "language_info": {
   "codemirror_mode": {
    "name": "ipython",
    "version": 3
   },
   "file_extension": ".py",
   "mimetype": "text/x-python",
   "name": "python",
   "nbconvert_exporter": "python",
   "pygments_lexer": "ipython3",
   "version": "3.7.3"
  }
 },
 "nbformat": 4,
 "nbformat_minor": 2
}
