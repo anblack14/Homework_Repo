{
 "cells": [
  {
   "cell_type": "code",
   "execution_count": 1,
   "metadata": {},
   "outputs": [],
   "source": [
    "# -*- coding: UTF-8 -*-\n",
    "\"\"\"PyPoll Homework Solution.\"\"\"\n",
    "\n",
    "# Incorporated the csv module\n",
    "import csv\n",
    "import os\n",
    "\n",
    "# Files to load and output (Remember to change these)\n",
    "election_csv = os.path.join(\"Resources\", \"election_data.csv\")\n",
    "analysis_csv = os.path.join(\"election_analysis.txt\")"
   ]
  },
  {
   "cell_type": "code",
   "execution_count": 2,
   "metadata": {},
   "outputs": [],
   "source": [
    "# Total Vote Counter\n",
    "total_votes = 0\n",
    "\n",
    "# Candidate Options and Vote Counters\n",
    "# list[] because that will be a list of items \n",
    "# dictionary {} because it will be a collection of options \n",
    "candidate_options = []\n",
    "candidate_votes = {}\n",
    "\n",
    "# Winning Candidate and Winning Count Tracker\n",
    "# \"\" because it will be a string \n",
    "# Start winning count at 0\n",
    "winning_candidate = \"\"\n",
    "winning_count = 0"
   ]
  },
  {
   "cell_type": "code",
   "execution_count": 3,
   "metadata": {},
   "outputs": [],
   "source": [
    "# Read the csv and convert it into a list of dictionaries\n",
    "with open(election_csv) as election_data:\n",
    "    reader = csv.reader(election_data)\n",
    "\n",
    "    # Read the header\n",
    "    header = next(reader)\n",
    "\n",
    "    # For each row...\n",
    "    for row in reader:\n",
    "\n",
    "        # Add to the total vote count\n",
    "        total_votes = total_votes + 1\n",
    "\n",
    "        # Extract the candidate name from each row\n",
    "        candidate_name = row[2]\n",
    "\n",
    "        # If the candidate does not match any existing candidate...\n",
    "        # (In a way, our loop is \"discovering\" candidates as it goes)\n",
    "        if candidate_name not in candidate_options:\n",
    "\n",
    "            # Add it to the list of candidates in the running\n",
    "            # HINT: Use the append function\n",
    "            candidate_options.append(candidate_name)\n",
    "\n",
    "            # And begin tracking that candidate's voter count\n",
    "            # HINT: Initialize candidate_votes[candidate_name] to 0\n",
    "            candidate_votes[candidate_name] = 0\n",
    "\n",
    "        # Then add a vote to that candidate's count\n",
    "        # HINT: candidate_votes[candidate_name] += 1\n",
    "        candidate_votes[candidate_name] += 1"
   ]
  },
  {
   "cell_type": "code",
   "execution_count": 5,
   "metadata": {
    "scrolled": true
   },
   "outputs": [
    {
     "name": "stdout",
     "output_type": "stream",
     "text": [
      "The total vote count is 3521001\n",
      "\n",
      "Khan: 63.000% (2218231)\n",
      "The winner is Khan\n",
      "\n",
      "Correy: 20.000% (704200)\n",
      "The winner is Khan\n",
      "\n",
      "Li: 14.000% (492940)\n",
      "The winner is Khan\n",
      "\n",
      "O'Tooley: 3.000% (105630)\n",
      "The winner is Khan\n",
      "\n"
     ]
    }
   ],
   "source": [
    "# Print the results and export the data to our text file\n",
    "with open(analysis_csv, \"w\") as txt_file:\n",
    "    writer = csv.writer(txt_file)\n",
    "\n",
    "    # Print the final vote count (to terminal)\n",
    "    print(f'The total vote count is {total_votes}\\n')\n",
    "    # HINT: Print out the value of total_votes\n",
    "\n",
    "    # Save the final vote count to the text file\n",
    "    # HINT: use txt_file.write(election_results)\n",
    "    txt_file.write(\"total_votes\")\n",
    "\n",
    "    # Determine the winner by looping through the counts\n",
    "    for candidate in candidate_votes:\n",
    "        \n",
    "        # Retrieve vote count and percentage\n",
    "        votes = candidate_votes.get(candidate)\n",
    "        vote_percentage = float(votes) / float(total_votes) * 100\n",
    "\n",
    "        # Determine winning vote count and candidate\n",
    "        if (votes > winning_count):\n",
    "            winning_count = votes\n",
    "            winning_candidate = candidate\n",
    "\n",
    "        # Print each candidate's voter count and percentage (to terminal)\n",
    "        #\\n is new line\n",
    "        # YOUR CODE HERE. HINT: Print the `candidate`, a formatted version of `vote_percentage`, as well as the number of `votes`\n",
    "        voter_output = f\"{candidate}: {vote_percentage:.3f}% ({votes})\\n\"\n",
    "        print(voter_output, end=\"\")\n",
    "\n",
    "        # Save each candidate's voter count and percentage to text file\n",
    "        txt_file.write(\"voter_output\")\n",
    "\n",
    "    # Print the winning candidate (to terminal)\n",
    "        print(f'The winner is {winning_candidate}\\n')\n",
    "        # HINT: Print winning_candidate to the console\n",
    "\n",
    "    # Save the winning candidate's name to the text file\n",
    "        txt_file.write(\"winning_candidate\")"
   ]
  },
  {
   "cell_type": "code",
   "execution_count": null,
   "metadata": {},
   "outputs": [],
   "source": []
  }
 ],
 "metadata": {
  "kernelspec": {
   "display_name": "Python 3",
   "language": "python",
   "name": "python3"
  },
  "language_info": {
   "codemirror_mode": {
    "name": "ipython",
    "version": 3
   },
   "file_extension": ".py",
   "mimetype": "text/x-python",
   "name": "python",
   "nbconvert_exporter": "python",
   "pygments_lexer": "ipython3",
   "version": "3.7.3"
  }
 },
 "nbformat": 4,
 "nbformat_minor": 2
}
